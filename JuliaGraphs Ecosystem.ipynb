{
 "cells": [
  {
   "cell_type": "markdown",
   "metadata": {
    "slideshow": {
     "slide_type": "skip"
    }
   },
   "source": [
    "<link rel=\"stylesheet\" href=\"https://cdnjs.cloudflare.com/ajax/libs/font-awesome/4.7.0/css/font-awesome.min.css\">"
   ]
  },
  {
   "cell_type": "code",
   "execution_count": 1,
   "metadata": {
    "collapsed": false,
    "slideshow": {
     "slide_type": "skip"
    }
   },
   "outputs": [
    {
     "ename": "LoadError",
     "evalue": "MethodError: no method matching pipe_writer(::IJulia.IJuliaStdio{Base.PipeEndpoint})\nThe applicable method may be too new: running in world age 27557, while current world is 27573.\nClosest candidates are:\n  pipe_writer(::IJulia.IJuliaStdio) at /Users/jamesfairbanks/.julia/packages/IJulia/RBfP/src/stdio.jl:15 (method too new to be called from this world context.)\n  pipe_writer(!Matched::Base.ProcessChain) at process.jl:344\n  pipe_writer(!Matched::Base.Process) at process.jl:332\n  ...",
     "output_type": "error",
     "traceback": [
      "MethodError: no method matching pipe_writer(::IJulia.IJuliaStdio{Base.PipeEndpoint})\nThe applicable method may be too new: running in world age 27557, while current world is 27573.\nClosest candidates are:\n  pipe_writer(::IJulia.IJuliaStdio) at /Users/jamesfairbanks/.julia/packages/IJulia/RBfP/src/stdio.jl:15 (method too new to be called from this world context.)\n  pipe_writer(!Matched::Base.ProcessChain) at process.jl:344\n  pipe_writer(!Matched::Base.Process) at process.jl:332\n  ...",
      "",
      "Stacktrace:",
      " [1] unsafe_write(::IJulia.IJuliaStdio{Base.PipeEndpoint}, ::Ptr{UInt8}, ::UInt64) at ./io.jl:225",
      " [2] unsafe_write(::IJulia.IJuliaStdio{Base.PipeEndpoint}, ::Ptr{UInt8}, ::Int64) at ./io.jl:512",
      " [3] write(::IJulia.IJuliaStdio{Base.PipeEndpoint}, ::Array{UInt8,1}) at ./gcutils.jl:87",
      " [4] #handle_message#2(::Nothing, ::Base.Iterators.Pairs{Union{},Union{},Tuple{},NamedTuple{(),Tuple{}}}, ::Function, ::Base.CoreLogging.SimpleLogger, ::Base.CoreLogging.LogLevel, ::String, ::Nothing, ::Symbol, ::Symbol, ::String, ::Int64) at ./logging.jl:534",
      " [5] handle_message at ./logging.jl:516 [inlined]",
      " [6] logmsg_shim(::Int64, ::String, ::Nothing, ::Symbol, ::Symbol, ::Symbol, ::Int64, ::Array{Any,1}) at ./logging.jl:310",
      " [7] include at ./boot.jl:317 [inlined]",
      " [8] include_relative(::Module, ::String) at ./loading.jl:1034",
      " [9] macro expansion at ./logging.jl:312 [inlined]",
      " [10] _require(::Base.PkgId) at ./loading.jl:929",
      " [11] require(::Base.PkgId) at ./loading.jl:838",
      " [12] require(::Module, ::Symbol) at ./loading.jl:833"
     ]
    }
   ],
   "source": [
    "using DataFrames\n",
    "using MetaGraphs\n",
    "using GraphDataFrameBridge"
   ]
  },
  {
   "cell_type": "markdown",
   "metadata": {
    "slideshow": {
     "slide_type": "slide"
    }
   },
   "source": [
    "# ![JuliaGraphs Logo](img/lglogo.png) The JuliaGraphs Ecosystem: build fast -- don’t break things\n",
    "\n",
    "James Fairbanks (<i class=\"fa fa-twitter\" style=\"font-size:24px\"></i> @fairbanksjp, <i class=\"fa fa-link\" style=\"font-size:24px;\"></i> [jpfairbanks.com](jpfairbanks.com)) and Seth Bromberger\n",
    "\n",
    "![London Bridges](img/london_bridges.png)"
   ]
  },
  {
   "cell_type": "markdown",
   "metadata": {
    "slideshow": {
     "slide_type": "slide"
    }
   },
   "source": [
    "### JuliaGraphs: An ecosystem for all graph theory\n",
    "\n",
    "  - Core Data structures for implementing algorithms\n",
    "  - Network Science and Network Analytics\n",
    "  - I/O for standard formats\n",
    "  - Visualization \n",
    "\n",
    "### Scope of JuliaGraphs\n",
    "\n",
    "  - All graph theory from counting paths to spectral graph theory\n",
    "  - Sequential and Parallel Algorithms up to multi-core\n",
    "  - Flexible APIs and implementations to support diverse data structures\n",
    "  - Balance Math and CS perspectives on this shared field"
   ]
  },
  {
   "cell_type": "markdown",
   "metadata": {
    "slideshow": {
     "slide_type": "slide"
    }
   },
   "source": [
    "\n",
    "## The JuliaGraphs Ecosystem\n",
    "\n",
    "![file://graph.plot.svg](graph.plot.svg \"The JuliaGraphs Ecosystem\")\n"
   ]
  },
  {
   "cell_type": "markdown",
   "metadata": {
    "slideshow": {
     "slide_type": "subslide"
    }
   },
   "source": [
    "## Interesting Applications in the JuliaGraphs Ecosystem\n",
    "\n",
    "- *Probabilistic Programming*: \n",
    "BayesNets, Mamba.jl, DiffEQBayes\n",
    "\n",
    "- *Image Processing*: \n",
    "ImageQuilting, Image Segmentation\n",
    "\n",
    "- *Economics*: \n",
    "Dolo, BasisMatries, DSGE, CompEcon, StateSpaceRoutines, Augur\n",
    "\n",
    "- *Biology*: \n",
    "Bio.jl\n",
    "\n",
    "- *Symbolic Math*: \n",
    " Treeview, ExprOptimization\n",
    "\n"
   ]
  },
  {
   "cell_type": "markdown",
   "metadata": {
    "slideshow": {
     "slide_type": "slide"
    }
   },
   "source": [
    "## Abstraction\n",
    "\n",
    "Enables multiple implementations:\n",
    "\n",
    "1. SimpleGraph: the standard adjacency list you know and love\n",
    "2. StaticGraph: allows for better performance if you don't need to modify the graph.\n",
    "2. Weighted graphs: weights integrated as a first class concept\n",
    "3. Metagraphs: why should edge and vertex metadata be limited to weights?\n",
    "4. Evolving graphs: storing the entire history of a graph over time\n",
    "<!--5. Database graphs: (too slow don’t use)-->\n",
    "\n",
    "\n"
   ]
  },
  {
   "cell_type": "markdown",
   "metadata": {
    "slideshow": {
     "slide_type": "subslide"
    }
   },
   "source": [
    "## MetaGraphs\n",
    "\n",
    "You can read graphs from DataFrames using [GraphDataFrameBridge](https://github.com/JuliaGraphs/GraphDataFrameBridge.jl)\n",
    "\n",
    "```julia\n",
    "julia> using DataFrames\n",
    "julia> using GraphDataFrameBridge\n",
    "\n",
    "julia> df = DataFrame(Dict(:start => [\"a\", \"b\", \"a\", \"d\"],\n",
    "                      :finish => [\"b\", \"c\", \"e\", \"e\"],\n",
    "                      :weights => 1:4,\n",
    "                      :extras => 5:8))\n",
    "\n",
    "4×4 DataFrame\n",
    "│ Row │ extras │ finish │ start │ weights │\n",
    "├────┼─────┼─────┼─────┼──────┤\n",
    "│ 1   │ 5      │ b      │ a     │ 1       │\n",
    "│ 2   │ 6      │ c      │ b     │ 2       │\n",
    "│ 3   │ 7      │ e      │ a     │ 3       │\n",
    "│ 4   │ 8      │ e      │ d     │ 4       │\n",
    "\n",
    "```\n"
   ]
  },
  {
   "cell_type": "code",
   "execution_count": 2,
   "metadata": {
    "collapsed": false,
    "slideshow": {
     "slide_type": "skip"
    }
   },
   "outputs": [
    {
     "data": {
      "text/html": [
       "<table class=\"data-frame\"><thead><tr><th></th><th>extras</th><th>finish</th><th>start</th><th>weights</th></tr></thead><tbody><tr><th>1</th><td>5</td><td>b</td><td>a</td><td>1</td></tr><tr><th>2</th><td>6</td><td>c</td><td>b</td><td>2</td></tr><tr><th>3</th><td>7</td><td>e</td><td>a</td><td>3</td></tr><tr><th>4</th><td>8</td><td>e</td><td>d</td><td>4</td></tr></tbody></table>"
      ],
      "text/plain": [
       "4×4 DataFrame\n",
       "│ Row │ extras │ finish │ start │ weights │\n",
       "├─────┼────────┼────────┼───────┼─────────┤\n",
       "│ 1   │ 5      │ b      │ a     │ 1       │\n",
       "│ 2   │ 6      │ c      │ b     │ 2       │\n",
       "│ 3   │ 7      │ e      │ a     │ 3       │\n",
       "│ 4   │ 8      │ e      │ d     │ 4       │"
      ]
     },
     "execution_count": 2,
     "metadata": {},
     "output_type": "execute_result"
    }
   ],
   "source": [
    "df = DataFrame(Dict(:start => [\"a\", \"b\", \"a\", \"d\"],\n",
    "                    :finish => [\"b\", \"c\", \"e\", \"e\"],\n",
    "                    :weights => 1:4,\n",
    "                    :extras => 5:8))"
   ]
  },
  {
   "cell_type": "code",
   "execution_count": 3,
   "metadata": {
    "collapsed": false,
    "slideshow": {
     "slide_type": "skip"
    }
   },
   "outputs": [
    {
     "ename": "LoadError",
     "evalue": "UndefVarError: MetaGraphs not defined",
     "output_type": "error",
     "traceback": [
      "UndefVarError: MetaGraphs not defined",
      "",
      "Stacktrace:",
      " [1] top-level scope at none:0"
     ]
    }
   ],
   "source": [
    "# MetaGraph with `weight` attribute set and\n",
    "# `:extras` values stored as attributes.\n",
    "MetaGraphs.MetaGraph\n",
    "mgw = MetaGraph(df, :start, :finish,\n",
    "                weight=:weights,\n",
    "                edge_attributes=:extras)\n",
    "props(mgw, 1, 2);\n"
   ]
  },
  {
   "cell_type": "markdown",
   "metadata": {
    "slideshow": {
     "slide_type": "subslide"
    }
   },
   "source": [
    "\n",
    "## Graphs from DataFrames\n",
    "\n",
    "Meta Graphs can convert any dataframe into a graph database!\n",
    "\n",
    "```julia\n",
    "# MetaGraph with `weight` attribute set and\n",
    "# `:extras` values stored as attributes.\n",
    "julia> mgw = MetaGraph(df, :start, :finish,\n",
    "                       weight=:weights,\n",
    "                       edge_attributes=:extras)\n",
    "{5, 4} undirected Int64 metagraph with Float64 weights defined by :weight (default weight 1.0)\n",
    "\n",
    "julia> props(mgw, 1, 2)\n",
    "Dict Symbol → Any with 2 entries\n",
    "  :extras → 5\n",
    "  :weight → 1\n",
    "```\n"
   ]
  },
  {
   "cell_type": "markdown",
   "metadata": {
    "slideshow": {
     "slide_type": "subslide"
    }
   },
   "source": [
    "\n",
    "## Evolving Graphs\n",
    "\n",
    "![Evolving Graphs](https://etymoio.github.io/EvolvingGraphs.jl/latest/eg.png \"JuliaGraphs is an Evolving Graph of Graph Packages\")\n",
    "https://etymoio.github.io/EvolvingGraphs.jl/\n",
    "\n",
    "1. [@matbesancon](https://github.com/matbesancon/) made a PR to EG to get support for all LG API functions\n",
    "2. Easy to join the LG Network of packages\n",
    "\n",
    "\n",
    "\n"
   ]
  },
  {
   "cell_type": "markdown",
   "metadata": {
    "slideshow": {
     "slide_type": "slide"
    }
   },
   "source": [
    "## Parallelism\n",
    "\n",
    "### GSOC\n",
    "  - (<i class=\"fa fa-github\" style=\"font-size:24px\"></i> @SohamTamba, <i class=\"fa fa-link\" style=\"font-size:24px;\"></i> [SohamTamba](jpfairbanks.com))\n",
    "  - Breadth First Search\n",
    "  - Floyd Warshall All Pairs Shortest Paths\n",
    "  \n",
    "### Grand Unified Theory of Parallel Algorithms\n",
    "\n",
    "1. Parallel Graph Algorithms are complicated, hardware $\\times$ data complexity $\\times$ application\n",
    "2. Data Layout cirtical for performance\n",
    "3. Not all algorithms are optimal on the same data layout\n",
    "\n",
    "\n",
    "We need a unified theory of parallel resources and algorithm selection looking\n",
    "   to DiffEQ.jl for guidance (2.0 roadmap).\n",
    "   \n",
    "Automatically reason about\n",
    "   interactions between graph type, graph data, and compute resources to choose\n",
    "   best algorithm available.\n",
    "\n"
   ]
  },
  {
   "cell_type": "markdown",
   "metadata": {
    "slideshow": {
     "slide_type": "slide"
    }
   },
   "source": [
    "\n",
    "## Ecosystem Integrations\n",
    "\n",
    "1. Interaction between JuliaGraphs and JuliaOpt ecosystems\n",
    "2. Minimizing LightGraphs dependencies by extracting out optimization based algorithms\n",
    "3. GraphDataFrameBridge connects to JuliaGraphs to Dataverse\n",
    "4. <i class=\"fa fa-warning\" style=\"font-size:24px;color:#fcc116;\"></i> Each ecosystem defines basic types in a lightweight library, but we have $\\#ecosystems^2$ possible integrations. Which is better than $\\#pkg^2$.\n",
    "\n",
    "\n",
    "### Numerical Methods\n",
    "1. Big problems from moving ARPACK out of STDLIB\n",
    "2. Even if we only rely on basic things they can break.\n",
    "3. The Julia Community must develop sustainable methods for funding Core OSS Libraries"
   ]
  },
  {
   "cell_type": "markdown",
   "metadata": {
    "slideshow": {
     "slide_type": "slide"
    }
   },
   "source": [
    "\n",
    "## Academic Pubs\n",
    "\n",
    "JuliaGraphs is mature even that we spent most of our time this year writing papers *with* LG rather than *on* LG.\n",
    "\n",
    "<ul style=\"list-style-type:none\">\n",
    "<li><i class=\"fa fa-files-o\"></i> &nbsp;&nbsp;&nbsp;&nbsp;RV EH <emph>JF</emph> BS Integrating Productivity-Oriented Programming Languages with High-Performance Data Structures, HPEC 2017, Implements AbstractGraph on a C/OpenMP parallel graph toolkit</li>\n",
    "\n",
    "<li><i class=\"fa fa-files-o\"></i> &nbsp;&nbsp;&nbsp;&nbsp; RV <emph>JF</emph> BS Performance Effects of Dynamic Graph Data Structures in Community Detection Algorithms, HPEC 2018, Uses Multiple Dispatch to enable analysis of data structures</li>\n",
    "\n",
    "<li><i class=\"fa fa-files-o\"></i> &nbsp;&nbsp;&nbsp;&nbsp; Julio Hoffman Mendes et. al, Stochastic Simulation by Image Quilting of Process-based Geological Models, Computers & Geosciences, Uses LG to quilt images with high fidelity</li>\n",
    "\n",
    "<li><i class=\"fa fa-files-o\"></i> &nbsp;&nbsp;&nbsp;&nbsp; Ollin Demian Langle Chimal, Complex Network Analysis of Political Data, Uses LG to construct a temporal weighted network and apply a self developed algorithm for community detection in order to study coalition dynamics</li>\n",
    "</ul>\n"
   ]
  },
  {
   "cell_type": "markdown",
   "metadata": {
    "slideshow": {
     "slide_type": "slide"
    }
   },
   "source": [
    "## LightGraphs.jl 1.0 Stability Guarantee\n",
    "\n",
    "With the release of LightGraphs.jl v1.0 we are adopting SemVer:\n",
    "\n",
    "1. No breaking changes to external API before 2.0\n",
    "2. Any script that runs now and does not depend on internal implementations, will continue to run.\n",
    "3. Any additional features will get a X.Y+1.0 version bump\n",
    "\n",
    "Caveats:\n",
    "\n",
    "1. If a function computes *A solution* to a problem then we don't guarantee you will always get *the same solution* to the problem (ex. BFS)\n",
    "2. Experimental Interfaces like parallelism are separated off in LightGraphs.Experimental and still under development."
   ]
  },
  {
   "cell_type": "markdown",
   "metadata": {
    "slideshow": {
     "slide_type": "slide"
    }
   },
   "source": [
    "## Conclusion\n",
    "\n",
    "![shipping it](http://jpfairbanks.net/img/shipit.gif)\n",
    "\n",
    "1. Good year for graphs in Julia\n",
    "2. 1.0 is out\n",
    "3. Hackathon tomorrow\n",
    "\n",
    "### Discussion\n",
    "\n",
    "You can find us on\n",
    "- github.com/JuliaGraphs: issues and PRs\n",
    "- Discourse: help from the broader community\n",
    "- Slack #graphs channel: chat and commentary\n",
    "- twitter.com/@fairbanksjp: hot takes."
   ]
  }
 ],
 "metadata": {
  "anaconda-cloud": {},
  "celltoolbar": "Slideshow",
  "kernelspec": {
   "display_name": "Julia 0.7.0-beta2",
   "language": "julia",
   "name": "julia-0.7"
  },
  "language_info": {
   "file_extension": ".jl",
   "mimetype": "application/julia",
   "name": "julia",
   "version": "0.7.0"
  }
 },
 "nbformat": 4,
 "nbformat_minor": 2
}
